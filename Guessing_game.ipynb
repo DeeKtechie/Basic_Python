{
 "cells": [
  {
   "cell_type": "code",
   "execution_count": 1,
   "id": "85a83a1b-112b-4a97-8ead-327a507ca85a",
   "metadata": {},
   "outputs": [],
   "source": [
    "import random"
   ]
  },
  {
   "cell_type": "code",
   "execution_count": 9,
   "id": "4a14336d-9e07-465b-b5a4-8cbe3fa25b46",
   "metadata": {},
   "outputs": [
    {
     "name": "stdout",
     "output_type": "stream",
     "text": [
      "Welcome to our Python guessing game, /n you get three trials to get the correct number\n"
     ]
    },
    {
     "name": "stdin",
     "output_type": "stream",
     "text": [
      "Enter a random number from 1-100:  89\n"
     ]
    },
    {
     "name": "stdout",
     "output_type": "stream",
     "text": [
      "The correct number is 54\n",
      "That's wrong, Better luck next time\n"
     ]
    },
    {
     "name": "stdin",
     "output_type": "stream",
     "text": [
      "Enter a random number from 1-100:  62\n"
     ]
    },
    {
     "name": "stdout",
     "output_type": "stream",
     "text": [
      "The correct number is 43\n",
      "That's wrong, Better luck next time\n"
     ]
    },
    {
     "name": "stdin",
     "output_type": "stream",
     "text": [
      "Enter a random number from 1-100:  55\n"
     ]
    },
    {
     "name": "stdout",
     "output_type": "stream",
     "text": [
      "The correct number is 28\n",
      "That's wrong, Better luck next time\n",
      "Thats the end\n"
     ]
    }
   ],
   "source": [
    "#Python Number Guessing game\n",
    "\n",
    "print(\"Welcome to our Python guessing game, /n you get three trials to get the correct number\")\n",
    "trial = 1\n",
    "while trial < 4:\n",
    "    your_number = int(input(\"Enter a random number from 1-100: \"))\n",
    "    my_number = random.randint(1,100)\n",
    "    if my_number == your_number:\n",
    "        print(f\"The correct number is {my_number}\")\n",
    "        print(\"You are a smartie!!! You got the number\")\n",
    "    else:\n",
    "        print(f\"The correct number is {my_number}\")\n",
    "        print(\"That's wrong, Better luck next time\")\n",
    "        trial += 1\n",
    "print(\"Thats the end\")"
   ]
  },
  {
   "cell_type": "code",
   "execution_count": null,
   "id": "6e9bd1d3-f3ca-4f28-8457-89889d333a80",
   "metadata": {},
   "outputs": [],
   "source": []
  }
 ],
 "metadata": {
  "kernelspec": {
   "display_name": "Python 3 (ipykernel)",
   "language": "python",
   "name": "python3"
  },
  "language_info": {
   "codemirror_mode": {
    "name": "ipython",
    "version": 3
   },
   "file_extension": ".py",
   "mimetype": "text/x-python",
   "name": "python",
   "nbconvert_exporter": "python",
   "pygments_lexer": "ipython3",
   "version": "3.12.4"
  }
 },
 "nbformat": 4,
 "nbformat_minor": 5
}
